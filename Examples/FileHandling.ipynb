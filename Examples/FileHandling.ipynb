{
 "cells": [
  {
   "attachments": {},
   "cell_type": "markdown",
   "metadata": {},
   "source": [
    "# File handling\n",
    "\n",
    "Let's see how to set up your trajectory to be handled with SOAPify.\n",
    "\n",
    "## Getting the example trajectory\n",
    "Assuming that we are on linux, let's download the small example lammps trajectory (it is a 55 gold atoms nanoparticle NVT at few temperatures):\n",
    "```bash\n",
    "wget https://github.com/GMPavanLab/SOAPify/releases/download/0.1.0rc0/SmallExample.zip\n",
    "```\n",
    "and unzip it\n",
    "```bash\n",
    "unzip SmallExample.zip\n",
    "```\n",
    "now we should have some files in the `SmallExample` directory"
   ]
  },
  {
   "cell_type": "code",
   "execution_count": 1,
   "metadata": {},
   "outputs": [
    {
     "name": "stdout",
     "output_type": "stream",
     "text": [
      "ih55.data  ih55-T_100.lammpsdump  ih55-T_200.lammpsdump\n"
     ]
    }
   ],
   "source": [
    "%ls SmallExample"
   ]
  },
  {
   "cell_type": "code",
   "execution_count": 2,
   "metadata": {},
   "outputs": [],
   "source": [
    "import SOAPify\n",
    "import SOAPify.HDF5er as HDF5er\n",
    "from MDAnalysis import Universe\n",
    "import h5py\n",
    "\n",
    "exampleHDF5 = \"ih55.hdf5\"\n",
    "exampleSOAPHDF5 = \"ih55soap.hdf5\"\n"
   ]
  },
  {
   "attachments": {},
   "cell_type": "markdown",
   "metadata": {},
   "source": [
    "## The base file\n",
    "\n",
    "Let's create the base .hdf5 file with the trajectory\n",
    "\n",
    "The next cell is equivalent to the cli commands:\n",
    "```bash\n",
    "SOAPify-prepareTrajectory ./SmallExample/ih55.data ih55.hdf5 \\\n",
    "    -n SmallExample_100 \\\n",
    "    -a \"pair_style\" \"smatb/single\" \\\n",
    "    -a \"pair_coeff\"\t\"1 1 2.88 10.35 4.178 0.210 1.818 4.07293506 4.9883063257983666\" \\\n",
    "    -a T 100 \\\n",
    "    -u atom_style \"id type x y z\" \\\n",
    "    -t ./SmallExample/ih55-T_100.lammpsdump \\\n",
    "    --types Au\n",
    "\n",
    "SOAPify-prepareTrajectory ./SmallExample/ih55.data ih55.hdf5 \\\n",
    "    -n SmallExample_200 \\\n",
    "    -a \"pair_style\" \"smatb/single\" \\\n",
    "    -a \"pair_coeff\"\t\"1 1 2.88 10.35 4.178 0.210 1.818 4.07293506 4.9883063257983666\" \\\n",
    "    -a T 200 \\\n",
    "    -u atom_style \"id type x y z\" \\\n",
    "    -t ./SmallExample/ih55-T_200.lammpsdump \\\n",
    "    --types Au\n",
    "```\n",
    "\n",
    "the `-a` are extra attributes that are saved in the hdf5 file and can be useful for storing data about the simulation\n",
    "\n",
    "the `-u` are extra options to pass to the `MDAnalysis.Universe`"
   ]
  },
  {
   "cell_type": "code",
   "execution_count": 3,
   "metadata": {},
   "outputs": [
    {
     "name": "stdout",
     "output_type": "stream",
     "text": [
      "[0:1000] 1000 1000 chunk of 9016 B\n",
      "[1000:2000] 1000 1000 chunk of 9016 B\n",
      "[2000:3000] 1000 1000 chunk of 9016 B\n",
      "[3000:4000] 1000 1000 chunk of 9016 B\n",
      "[4000:5000] 1000 1000 chunk of 9016 B\n",
      "[5000:6000] 1000 1000 chunk of 9016 B\n",
      "[6000:7000] 1000 1000 chunk of 9016 B\n",
      "[7000:8000] 1000 1000 chunk of 9016 B\n",
      "[8000:9000] 1000 1000 chunk of 9016 B\n",
      "[9000:10000] 1000 1000 chunk of 9016 B\n",
      "[10000:11000] 1000 1000 chunk of 9016 B\n",
      "[11000:12000] 1000 1000 chunk of 9016 B\n",
      "[12000:13000] 1000 1000 chunk of 9016 B\n",
      "[13000:14000] 1000 1000 chunk of 9016 B\n",
      "[14000:15000] 1000 1000 chunk of 9016 B\n",
      "[15000:16000] 1000 1000 chunk of 9016 B\n",
      "[16000:17000] 1000 1000 chunk of 9016 B\n",
      "[17000:18000] 1000 1000 chunk of 9016 B\n",
      "[18000:19000] 1000 1000 chunk of 9016 B\n",
      "[19000:20000] 1000 1000 chunk of 9016 B\n",
      "[0:1000] 1000 1000 chunk of 9016 B\n",
      "[1000:2000] 1000 1000 chunk of 9016 B\n",
      "[2000:3000] 1000 1000 chunk of 9016 B\n",
      "[3000:4000] 1000 1000 chunk of 9016 B\n",
      "[4000:5000] 1000 1000 chunk of 9016 B\n",
      "[5000:6000] 1000 1000 chunk of 9016 B\n",
      "[6000:7000] 1000 1000 chunk of 9016 B\n",
      "[7000:8000] 1000 1000 chunk of 9016 B\n",
      "[8000:9000] 1000 1000 chunk of 9016 B\n",
      "[9000:10000] 1000 1000 chunk of 9016 B\n",
      "[10000:11000] 1000 1000 chunk of 9016 B\n",
      "[11000:12000] 1000 1000 chunk of 9016 B\n",
      "[12000:13000] 1000 1000 chunk of 9016 B\n",
      "[13000:14000] 1000 1000 chunk of 9016 B\n",
      "[14000:15000] 1000 1000 chunk of 9016 B\n",
      "[15000:16000] 1000 1000 chunk of 9016 B\n",
      "[16000:17000] 1000 1000 chunk of 9016 B\n",
      "[17000:18000] 1000 1000 chunk of 9016 B\n",
      "[18000:19000] 1000 1000 chunk of 9016 B\n",
      "[19000:20000] 1000 1000 chunk of 9016 B\n"
     ]
    }
   ],
   "source": [
    "def createTrajFile(\n",
    "    trajname: str,\n",
    "    topologyFile: str,\n",
    "    trajectories: \"list[str]\",\n",
    "    outFile: str,\n",
    "    extraAttrs=None,\n",
    "):\n",
    "    u = Universe(topologyFile, *trajectories, atom_style=\"id type x y z\")\n",
    "    u.atoms.types = [\"Au\"] * len(u.atoms)\n",
    "\n",
    "    HDF5er.MDA2HDF5(u, outFile, trajname, trajChunkSize=1000, attrs=extraAttrs)\n",
    "\n",
    "\n",
    "extraAttrs = {\n",
    "    \"ts\": \"5fs\",\n",
    "    \"pair_style\": \"smatb/single\",\n",
    "    \"pair_coeff\": \"1 1 2.88 10.35 4.178 0.210 1.818 4.07293506 4.9883063257983666\",\n",
    "}\n",
    "for T in [100, 200]:\n",
    "    createTrajFile(\n",
    "        trajname=f\"SmallExample_{T}\",\n",
    "        topologyFile=\"./SmallExample/ih55.data\",\n",
    "        trajectories=[f\"./SmallExample/ih55-T_{T}.lammpsdump\"],\n",
    "        outFile=exampleHDF5,\n",
    "        extraAttrs=extraAttrs,\n",
    "    )\n"
   ]
  },
  {
   "attachments": {},
   "cell_type": "markdown",
   "metadata": {},
   "source": [
    "The attributes are then accessible, and can be used to our advantage (or to reproduce the simulations)"
   ]
  },
  {
   "cell_type": "code",
   "execution_count": 4,
   "metadata": {},
   "outputs": [
    {
     "name": "stdout",
     "output_type": "stream",
     "text": [
      "Trajectory group name: SmallExample_100\n",
      "Attributes:\n",
      "\tpair_coeff: \"1 1 2.88 10.35 4.178 0.210 1.818 4.07293506 4.9883063257983666\"\n",
      "\tpair_style: \"smatb/single\"\n",
      "\tts: \"5fs\"\n",
      "Trajectory group name: SmallExample_200\n",
      "Attributes:\n",
      "\tpair_coeff: \"1 1 2.88 10.35 4.178 0.210 1.818 4.07293506 4.9883063257983666\"\n",
      "\tpair_style: \"smatb/single\"\n",
      "\tts: \"5fs\"\n"
     ]
    }
   ],
   "source": [
    "with h5py.File(exampleHDF5, \"r\") as workFile:\n",
    "    trjContainers=workFile['Trajectories']\n",
    "    for name, trjGroup in trjContainers.items():\n",
    "        print(f\"Trajectory group name: {name}\")\n",
    "        print(\"Attributes:\")\n",
    "        for attname, attval in trjGroup.attrs.items():\n",
    "            print(f'\\t{attname}: \"{attval}\"')"
   ]
  },
  {
   "attachments": {},
   "cell_type": "markdown",
   "metadata": {},
   "source": [
    "## Applying SOAP\n",
    "\n",
    "We will deactivate the verbosity within this jupyter.\n",
    "\n",
    "Then let's calculate the SOAP fingerprints using dscribe to the all of the trajectories in the file.\n",
    "\n",
    "Here we changed the lMax between the two iterations\n",
    "The next cell is equivalent to the command:\n",
    "```bash\n",
    "SOAPify-traj2SOAP ih55.hdf5 \\\n",
    "    -s ih55soap.hdf5 -g SOAP4_4_4 -l 4 -n 4 -r 4.48023312 -j 16\n",
    "```\n",
    "followed by \n",
    "```bash\n",
    "SOAPify-traj2SOAP ih55.hdf5 \\\n",
    "    -s ih55soap.hdf5 -g SOAP6_4_4 -l 6 -n 4 -r 4.48023312 -j 16\n",
    "```\n"
   ]
  },
  {
   "cell_type": "code",
   "execution_count": 5,
   "metadata": {},
   "outputs": [
    {
     "name": "stdout",
     "output_type": "stream",
     "text": [
      "using \"dscribe\" to calculate SOAP for \"/Trajectories/SmallExample_100\"\n",
      "extra SOAP arguments: None\n",
      "using \"dscribe\" to calculate SOAP for \"/Trajectories/SmallExample_200\"\n",
      "extra SOAP arguments: None\n",
      "using \"dscribe\" to calculate SOAP for \"/Trajectories/SmallExample_100\"\n",
      "extra SOAP arguments: None\n",
      "using \"dscribe\" to calculate SOAP for \"/Trajectories/SmallExample_200\"\n",
      "extra SOAP arguments: None\n"
     ]
    }
   ],
   "source": [
    "def worker(trajFileName: str, soapFileName: str, soapGroup, **kwargs) -> None:\n",
    "    with h5py.File(trajFileName, \"r\") as workFile, h5py.File(\n",
    "        soapFileName, \"a\"\n",
    "    ) as soapFile:\n",
    "        SOAPify.saponifyMultipleTrajectories(\n",
    "            trajContainers=workFile[\"Trajectories\"],\n",
    "            SOAPoutContainers=soapFile.require_group(soapGroup),\n",
    "            SOAPOutputChunkDim=1000,\n",
    "            verbose=False,\n",
    "            **kwargs,\n",
    "        )\n",
    "\n",
    "\n",
    "for l in [4, 6]:\n",
    "    worker(\n",
    "        trajFileName=exampleHDF5,\n",
    "        soapFileName=exampleSOAPHDF5,\n",
    "        soapGroup=f\"SOAP{l}_4_4 \",\n",
    "        SOAPnJobs=16,\n",
    "        SOAPrcut=4.48023312,\n",
    "        SOAPnmax=4,\n",
    "        SOAPlmax=l,\n",
    "    )\n"
   ]
  },
  {
   "attachments": {},
   "cell_type": "markdown",
   "metadata": {},
   "source": [
    "The information about the SOAP calculation are stored in the attributes of the SOAP fingerprint datasets:"
   ]
  },
  {
   "cell_type": "code",
   "execution_count": 6,
   "metadata": {},
   "outputs": [
    {
     "name": "stdout",
     "output_type": "stream",
     "text": [
      "SOAP group name: \"SOAP4_4_4 \"\n",
      "Attributes:\n",
      "\tSOAP dataset: SmallExample_100, shape (20000, 55, 50)\n",
      "\t\tSOAPengine: \"dscribe\"\n",
      "\t\tl_max: \"4\"\n",
      "\t\tn_max: \"4\"\n",
      "\t\tr_cut: \"4.48023312\"\n",
      "\t\tspecies: \"['Au']\"\n",
      "\t\tspecies_location_Au-Au: \"[ 0 50]\"\n",
      "\tSOAP dataset: SmallExample_200, shape (20000, 55, 50)\n",
      "\t\tSOAPengine: \"dscribe\"\n",
      "\t\tl_max: \"4\"\n",
      "\t\tn_max: \"4\"\n",
      "\t\tr_cut: \"4.48023312\"\n",
      "\t\tspecies: \"['Au']\"\n",
      "\t\tspecies_location_Au-Au: \"[ 0 50]\"\n",
      "SOAP group name: \"SOAP6_4_4 \"\n",
      "Attributes:\n",
      "\tSOAP dataset: SmallExample_100, shape (20000, 55, 70)\n",
      "\t\tSOAPengine: \"dscribe\"\n",
      "\t\tl_max: \"6\"\n",
      "\t\tn_max: \"4\"\n",
      "\t\tr_cut: \"4.48023312\"\n",
      "\t\tspecies: \"['Au']\"\n",
      "\t\tspecies_location_Au-Au: \"[ 0 70]\"\n",
      "\tSOAP dataset: SmallExample_200, shape (20000, 55, 70)\n",
      "\t\tSOAPengine: \"dscribe\"\n",
      "\t\tl_max: \"6\"\n",
      "\t\tn_max: \"4\"\n",
      "\t\tr_cut: \"4.48023312\"\n",
      "\t\tspecies: \"['Au']\"\n",
      "\t\tspecies_location_Au-Au: \"[ 0 70]\"\n"
     ]
    }
   ],
   "source": [
    "with h5py.File(exampleSOAPHDF5, \"r\") as workFile:\n",
    "    for name, trjGroup in workFile.items():\n",
    "        print(f\"SOAP group name: \\\"{name}\\\"\")\n",
    "        print(\"Attributes:\")\n",
    "        for dsname, trjDS in trjGroup.items():\n",
    "            print(f\"\\tSOAP dataset: {dsname}, shape {trjDS.shape}\")\n",
    "            for attname, attval in trjDS.attrs.items():\n",
    "                print(f'\\t\\t{attname}: \"{attval}\"')"
   ]
  },
  {
   "attachments": {},
   "cell_type": "markdown",
   "metadata": {},
   "source": [
    "### Selecting a trajectory\n",
    "You can calculate SOAP only for a single trajectory:\n",
    "This is equivalent to\n",
    "```bash\n",
    "SOAPify-traj2SOAP ih55.hdf5 \\\n",
    "    -s ih55soap.hdf5 -g SOAP6_6_4 -l 6 -n 6 -r 4.48023312 -j 16 \\\n",
    "    -t /Trajectories/SmallExample_200\n",
    "```"
   ]
  },
  {
   "cell_type": "code",
   "execution_count": 7,
   "metadata": {},
   "outputs": [
    {
     "name": "stdout",
     "output_type": "stream",
     "text": [
      "using \"dscribe\" to calculate SOAP for \"/Trajectories/SmallExample_200\"\n",
      "extra SOAP arguments: None\n"
     ]
    }
   ],
   "source": [
    "with h5py.File(exampleHDF5, \"r\") as workFile, h5py.File(\n",
    "    exampleSOAPHDF5, \"a\"\n",
    ") as soapFile:\n",
    "    SOAPify.saponifyTrajectory(\n",
    "        trajContainer=workFile[\"/Trajectories/SmallExample_200\"],\n",
    "        SOAPoutContainer=soapFile.require_group(\"SOAP_6_6_4\"),\n",
    "        SOAPOutputChunkDim=1000,\n",
    "        SOAPnJobs=16,\n",
    "        SOAPrcut=4.48023312,\n",
    "        SOAPnmax=6,\n",
    "        SOAPlmax=6,\n",
    "        verbose=False,\n",
    "    )\n"
   ]
  },
  {
   "attachments": {},
   "cell_type": "markdown",
   "metadata": {},
   "source": [
    "### Fingerprints for a subsystem\n",
    "\n",
    "You can also calculate the soap fingerprints of a subgroup of atoms.\n",
    "\n",
    "Here, for example we will calculate the SOAP fingerprints of only the 0th and the 15th atoms\n",
    "\n",
    "There is (for now) no equivalent cli command.\n"
   ]
  },
  {
   "cell_type": "code",
   "execution_count": 8,
   "metadata": {},
   "outputs": [
    {
     "name": "stdout",
     "output_type": "stream",
     "text": [
      "using \"dscribe\" to calculate SOAP for \"/Trajectories/SmallExample_200\"\n",
      "extra SOAP arguments: None\n"
     ]
    }
   ],
   "source": [
    "with h5py.File(exampleHDF5, \"r\") as workFile, h5py.File(\n",
    "    exampleSOAPHDF5, \"a\"\n",
    ") as soapFile:\n",
    "    SOAPify.saponifyTrajectory(\n",
    "        trajContainer=workFile[\"/Trajectories/SmallExample_200\"],\n",
    "        SOAPoutContainer=soapFile.require_group(\"SOAP_4_4_4_FEW\"),\n",
    "        centersMask=[0, 15],\n",
    "        SOAPOutputChunkDim=1000,\n",
    "        SOAPnJobs=16,\n",
    "        SOAPrcut=4.48023312,\n",
    "        SOAPnmax=4,\n",
    "        SOAPlmax=4,\n",
    "        verbose=False,\n",
    "    )\n"
   ]
  },
  {
   "attachments": {},
   "cell_type": "markdown",
   "metadata": {},
   "source": [
    "Note the the new attribute `centersIndexes` and the different shape of the dataset that reflects that SOAP fingerprints have been calculated only for atom 0 and 15:"
   ]
  },
  {
   "cell_type": "code",
   "execution_count": 9,
   "metadata": {},
   "outputs": [
    {
     "name": "stdout",
     "output_type": "stream",
     "text": [
      "SOAP group name: \"SOAP_4_4_4_FEW\"\n",
      "Attributes:\n",
      "\tSOAP dataset: SmallExample_200, shape (20000, 2, 50)\n",
      "\t\tSOAPengine: \"dscribe\"\n",
      "\t\tcentersIndexes: \"[ 0 15]\"\n",
      "\t\tl_max: \"4\"\n",
      "\t\tn_max: \"4\"\n",
      "\t\tr_cut: \"4.48023312\"\n",
      "\t\tspecies: \"['Au']\"\n",
      "\t\tspecies_location_Au-Au: \"[ 0 50]\"\n"
     ]
    }
   ],
   "source": [
    "with h5py.File(exampleSOAPHDF5, \"r\") as workFile:\n",
    "    name = \"SOAP_4_4_4_FEW\"\n",
    "    trjGroup = workFile[name]\n",
    "    print(f'SOAP group name: \"{name}\"')\n",
    "    print(\"Attributes:\")\n",
    "    for dsname, trjDS in trjGroup.items():\n",
    "        print(f\"\\tSOAP dataset: {dsname}, shape {trjDS.shape}\")\n",
    "        for attname, attval in trjDS.attrs.items():\n",
    "            print(f'\\t\\t{attname}: \"{attval}\"')\n",
    "            \n"
   ]
  },
  {
   "attachments": {},
   "cell_type": "markdown",
   "metadata": {},
   "source": [
    "You can call `getSOAPSettings` on a SOAP dataset to get the necessary data to 'fill' the vector (aka restore the repetition in the data that have been removed to save space) by simpy passing the returned dictionary to `fillSOAPVectorFromdscribe`"
   ]
  },
  {
   "cell_type": "code",
   "execution_count": 10,
   "metadata": {},
   "outputs": [
    {
     "name": "stdout",
     "output_type": "stream",
     "text": [
      "SOAP group name: \"SOAP4_4_4 \"\n",
      "\tSOAP dataset: SmallExample_100, shape (20000, 55, 50):\n",
      "\t{'nMax': 4, 'lMax': 4, 'atomTypes': array(['Au'], dtype=object), 'atomicSlices': {'AuAu': slice(0, 50, None)}}\n",
      "\tFilled shape : (20000, 55, 80)\n",
      "\tSOAP dataset: SmallExample_200, shape (20000, 55, 50):\n",
      "\t{'nMax': 4, 'lMax': 4, 'atomTypes': array(['Au'], dtype=object), 'atomicSlices': {'AuAu': slice(0, 50, None)}}\n",
      "\tFilled shape : (20000, 55, 80)\n",
      "SOAP group name: \"SOAP6_4_4 \"\n",
      "\tSOAP dataset: SmallExample_100, shape (20000, 55, 70):\n",
      "\t{'nMax': 4, 'lMax': 6, 'atomTypes': array(['Au'], dtype=object), 'atomicSlices': {'AuAu': slice(0, 70, None)}}\n",
      "\tFilled shape : (20000, 55, 112)\n",
      "\tSOAP dataset: SmallExample_200, shape (20000, 55, 70):\n",
      "\t{'nMax': 4, 'lMax': 6, 'atomTypes': array(['Au'], dtype=object), 'atomicSlices': {'AuAu': slice(0, 70, None)}}\n",
      "\tFilled shape : (20000, 55, 112)\n",
      "SOAP group name: \"SOAP_4_4_4_FEW\"\n",
      "\tSOAP dataset: SmallExample_200, shape (20000, 2, 50):\n",
      "\t{'nMax': 4, 'lMax': 4, 'atomTypes': array(['Au'], dtype=object), 'atomicSlices': {'AuAu': slice(0, 50, None)}}\n",
      "\tFilled shape : (20000, 2, 80)\n",
      "SOAP group name: \"SOAP_6_6_4\"\n",
      "\tSOAP dataset: SmallExample_200, shape (20000, 55, 147):\n",
      "\t{'nMax': 6, 'lMax': 6, 'atomTypes': array(['Au'], dtype=object), 'atomicSlices': {'AuAu': slice(0, 147, None)}}\n",
      "\tFilled shape : (20000, 55, 252)\n"
     ]
    }
   ],
   "source": [
    "with h5py.File(exampleSOAPHDF5, \"r\") as workFile:\n",
    "    for name, trjGroup in workFile.items():\n",
    "        print(f\"SOAP group name: \\\"{name}\\\"\")\n",
    "        for dsname, trjDS in trjGroup.items():\n",
    "            print(f\"\\tSOAP dataset: {dsname}, shape {trjDS.shape}:\")\n",
    "            fillInfo=SOAPify.getSOAPSettings(trjDS)\n",
    "            print(f\"\\t{fillInfo}\")\n",
    "            example= SOAPify.fillSOAPVectorFromdscribe(trjDS[:],**fillInfo)\n",
    "            print(f\"\\tFilled shape : {example.shape}\")"
   ]
  },
  {
   "attachments": {},
   "cell_type": "markdown",
   "metadata": {},
   "source": [
    "## About the command line interface\n",
    "You can get the options for the command line interface(cli) interfaces with\n",
    "```bash\n",
    "SOAPify-prepareTrajectory --help\n",
    "```\n",
    "and\n",
    "```bash\n",
    "SOAPify-traj2SOAP --help\n",
    "```"
   ]
  }
 ],
 "metadata": {
  "kernelspec": {
   "display_name": "env",
   "language": "python",
   "name": "python3"
  },
  "language_info": {
   "codemirror_mode": {
    "name": "ipython",
    "version": 3
   },
   "file_extension": ".py",
   "mimetype": "text/x-python",
   "name": "python",
   "nbconvert_exporter": "python",
   "pygments_lexer": "ipython3",
   "version": "3.8.10"
  },
  "orig_nbformat": 4
 },
 "nbformat": 4,
 "nbformat_minor": 2
}
