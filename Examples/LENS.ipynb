{
 "cells": [
  {
   "attachments": {},
   "cell_type": "markdown",
   "metadata": {},
   "source": [
    "# LENS analysis\n",
    "\n",
    "an example for a LENS analysis as in the [original paper](https://doi.org/10.48550/arXiv.2212.12694)"
   ]
  }
 ],
 "metadata": {
  "language_info": {
   "name": "python"
  },
  "orig_nbformat": 4
 },
 "nbformat": 4,
 "nbformat_minor": 2
}
