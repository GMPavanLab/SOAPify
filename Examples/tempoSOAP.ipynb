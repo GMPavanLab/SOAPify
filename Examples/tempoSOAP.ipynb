{
 "cells": [
  {
   "attachments": {},
   "cell_type": "markdown",
   "metadata": {},
   "source": [
    "# tempoSOAP analysis\n",
    "\n",
    "an example for a tempoSOAP analysis as in the [original paper](https://arxiv.org/abs/2302.09673v2)\n"
   ]
  }
 ],
 "metadata": {
  "language_info": {
   "name": "python"
  },
  "orig_nbformat": 4
 },
 "nbformat": 4,
 "nbformat_minor": 2
}
